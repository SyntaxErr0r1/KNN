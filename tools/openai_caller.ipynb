{
 "cells": [
  {
   "cell_type": "markdown",
   "metadata": {},
   "source": [
    "## Tool for making calls to OpenAI API to create the dataset"
   ]
  },
  {
   "cell_type": "code",
   "execution_count": 33,
   "metadata": {},
   "outputs": [],
   "source": [
    "from openai import OpenAI\n",
    "from dotenv import load_dotenv\n",
    "\n",
    "system_message = \"Jsi pracovník, který má za úkol sumarizovat text. Když ti někdo pošle článek, tvou odpovědí bude 5 vět shrnujícich podstatné informace.\"\n",
    "\n",
    "article = \"\"\"Roční dálniční známka od 1. března zdražila z 1500 na 2300 korun. Desetidenní kupon naopak zlevnil o 40 korun na 270 korun a měsíční stojí 430 korun místo 440 korun. Přibyla jednodenní dálniční známka za 200 korun.\n",
    "\n",
    "Ceny dálničních známek se v Česku změnily po 12 letech. Seznam Zprávy zjišťovaly, kolik známek stát prodal po změnách cen a o jaké byl největší zájem.\n",
    "\n",
    "„Od 1. 3. do 27. 3. se prodalo celkem 414 768 elektronických dálničních známek,“ uvedla Jana Jandová za státní podnik Cendis.\n",
    "\n",
    "Největší zájem měli v březnu řidiči o desetidenní dálniční známky, stát jich prodal více než 200 tisíc. Na druhém místě se umístily roční známky, těch si řidiči koupili 93 tisíc. Na třetím místě skončila novinka - známka na jeden den. Prodalo se jich 85 tisíc.\n",
    "\n",
    "Prodej dálničních známek za březen (1.3.-27.3.2024)\n",
    "Roční - 93 047  kusů\n",
    "\n",
    "30 denní - 32 696 kusů\n",
    "\n",
    "10 denní - 203 236 kusů\n",
    "\n",
    "Jednodenní - 85 789 kusů\n",
    "\n",
    "Zdroj: Vyjádření CENDIS pro Seznam Zprávy\n",
    "\n",
    "Nejmenší zájem byl v březnu o 30denní dálniční známky. Prodalo se jich témeř 33 tisíc. Nejčastěji si lidé kupují známky přes státní internetový obchod.\n",
    "\n",
    "Těsně před zdražením, v poslední únorový den, řidiči zakoupili zatím nejvíc elektronických dálničních známek od spuštění systému v prosinci 2020. Pořídili jich přes 219 tisíc za 316,2 milionu korun. V největší špičce se prodalo pět kuponů za sekundu.\n",
    "\n",
    "\n",
    "Kdo postaví další dálnici na Moravu? Prioritní projekt vlády je v nesnázích\n",
    "26. 3. 2024 9:45\n",
    "Ministr dopravy Martin Kupka (ODS) už dříve řidičům doporučil kupovat dálniční známky přes oficiální státní e-shop.\n",
    "\n",
    "„Doporučujeme každému, aby ke koupi dálniční známky využil pouze oficiální webové stránky www.edalnice.cz. Známku bez dalších poplatků lze rovněž pořídit na pobočkách České pošty a na čerpacích stanicích EuroOil.“\n",
    "\n",
    "Varování před neoficiálními prodejci\n",
    "„Je plně na uvážení kupujícího, zda si zakoupí elektronickou dálniční známku v oficiálním prodeji za cenu stanovenou v nařízení vlády, nebo za cenu vyšší u jiných prodejců. Vždy by však měl být informován o ceně samotné dálniční známky, ceně služby a podmínkách, za kterých je mu elektronická dálniční známka včetně služby nabízena,“ říká ústřední ředitel České obchodní inspekce Jan Štěpánek.\n",
    "\n",
    "Ministerstvo dopravy nedávno zveřejnilo seznam neoficiálních prodejců na svých webových stránkách.\n",
    "\n",
    "Ceny dálničních známek od 1. 3. 2024\n",
    "Standardní cena\tCena pro vozidla zemní plyn nebo biometan\tCena pro hybridy s emisemi CO2 do 50 g / km\tCena pro elektromobily\n",
    "roční\t2 300 Kč\t1 150 Kč\t570 Kč\t0 Kč\n",
    "měsíční\t430 Kč\t210 Kč\t100 Kč\t0 Kč\n",
    "10denní\t270 Kč\t130 Kč\t60 Kč\t0 Kč\n",
    "denní\t200 Kč\t100 Kč\t50 Kč\t0 Kč\n",
    "Zdroj: Ministerstvo dopravy\"\"\""
   ]
  },
  {
   "cell_type": "code",
   "execution_count": 34,
   "metadata": {},
   "outputs": [],
   "source": [
    "\n",
    "load_dotenv()\n",
    "client = OpenAI()"
   ]
  },
  {
   "cell_type": "code",
   "execution_count": 35,
   "metadata": {},
   "outputs": [],
   "source": [
    "\n",
    "response = client.chat.completions.create(\n",
    "  model = \"gpt-3.5-turbo-0125\",\n",
    "  temperature = 0.8,\n",
    "  max_tokens = 3000,\n",
    "#   response_format={ \"type\": \"json_object\" },\n",
    "  messages = [\n",
    "    {\"role\": \"system\", \"content\": system_message},\n",
    "    # {\"role\": \"user\", \"content\": \"Write a dad joke related to numbers.\"},\n",
    "    # {\"role\": \"assistant\", \"content\": \"Q: How do you make 7 even? A: Take away the s.\"},\n",
    "    {\"role\": \"user\", \"content\": article}\n",
    "  ]\n",
    ")"
   ]
  },
  {
   "cell_type": "code",
   "execution_count": 36,
   "metadata": {},
   "outputs": [
    {
     "name": "stdout",
     "output_type": "stream",
     "text": [
      "ChatCompletion(id='chatcmpl-9B09FtoJxjX51lPCEjPmkAY9rrWyu', choices=[Choice(finish_reason='stop', index=0, logprobs=None, message=ChatCompletionMessage(content='Od 1. března došlo ke zdražení roční dálniční známky z 1500 na 2300 korun, avšak desetidenní známka zlevnila o 40 korun na 270 korun a měsíční o 10 korun na 430 korun. Byla také přidána nová jednodenní dálniční známka za 200 korun. Během března se prodalo celkem 414 768 elektronických dálničních známek, s největším zájmem o desetidenní známky. Nejméně se pak prodávaly 30denní známky. V těsné blízkosti zdražení proběhl rekordní nákup dálničních známek, když lidé zakoupili přes 219 tisíc kuponů za 316,2 milionu korun. Růst cen dálničních známek byl doprovázen varováním ministerstva dopravy před neoficiálními prodejci a doporučením kupovat známky pouze na oficiálních webových stránkách.', role='assistant', function_call=None, tool_calls=None))], created=1712409205, model='gpt-3.5-turbo-0125', object='chat.completion', system_fingerprint='fp_b28b39ffa8', usage=CompletionUsage(completion_tokens=307, prompt_tokens=1298, total_tokens=1605))\n"
     ]
    }
   ],
   "source": [
    "print(response)"
   ]
  },
  {
   "cell_type": "markdown",
   "metadata": {},
   "source": [
    "### Token count compared to word count\n",
    "\n",
    "We can see that due to using GPT-3.5 in non-native language, it uses much more tokens due to the vocabulary not containing Czech words."
   ]
  },
  {
   "cell_type": "code",
   "execution_count": 37,
   "metadata": {},
   "outputs": [
    {
     "name": "stdout",
     "output_type": "stream",
     "text": [
      "Word count of the article: \n",
      "410\n",
      "Token count of the prompt (without the response): \n",
      "1298\n"
     ]
    }
   ],
   "source": [
    "# print the word count of the article\n",
    "print(\"Word count of the article: \")\n",
    "print( len(article.split(\" \")) + len(system_message.split(\" \")) )\n",
    "\n",
    "# print the word count of the response\n",
    "print(\"Token count of the prompt (without the response): \")\n",
    "print(response.usage.prompt_tokens)"
   ]
  },
  {
   "cell_type": "markdown",
   "metadata": {},
   "source": [
    "### Model output"
   ]
  },
  {
   "cell_type": "code",
   "execution_count": 38,
   "metadata": {},
   "outputs": [
    {
     "name": "stdout",
     "output_type": "stream",
     "text": [
      "Od 1. března došlo ke zdražení roční dálniční známky z 1500 na 2300 korun, avšak desetidenní známka zlevnila o 40 korun na 270 korun a měsíční o 10 korun na 430 korun. Byla také přidána nová jednodenní dálniční známka za 200 korun. Během března se prodalo celkem 414 768 elektronických dálničních známek, s největším zájmem o desetidenní známky. Nejméně se pak prodávaly 30denní známky. V těsné blízkosti zdražení proběhl rekordní nákup dálničních známek, když lidé zakoupili přes 219 tisíc kuponů za 316,2 milionu korun. Růst cen dálničních známek byl doprovázen varováním ministerstva dopravy před neoficiálními prodejci a doporučením kupovat známky pouze na oficiálních webových stránkách.\n"
     ]
    }
   ],
   "source": [
    "print(response.choices[0].message.content)"
   ]
  },
  {
   "cell_type": "markdown",
   "metadata": {},
   "source": [
    "### Loading SumeCzech dataset"
   ]
  },
  {
   "cell_type": "code",
   "execution_count": 39,
   "metadata": {},
   "outputs": [],
   "source": [
    "# load sumeczech-1.0\\sumeczech-1.0-test.jsonl\n",
    "\n",
    "import pandas as pd    \n",
    "jsonObj = pd.read_json(path_or_buf=\"./sumeczech-1.0/sumeczech-1.0-test.jsonl\", lines=True)"
   ]
  },
  {
   "cell_type": "code",
   "execution_count": 40,
   "metadata": {},
   "outputs": [
    {
     "name": "stdout",
     "output_type": "stream",
     "text": [
      "Po očištění o sezónní a kalendářní vlivy rostl maloobchod meziročně o 4,2 procenta. Letošní srpen měl oproti tomu loňskému o jeden pracovní den více. Meziměsíčně očištěný růst dosáhl 1,1 procenta.Lidé utráceli výrazně více i v motoristickém segmentu, reálně o 7,0 procenta. Ten se do maloobchodu normálně nepočítá. Pokud se ale sečte růst v maloobchodě včetně motoristické segmentu, je meziroční růst 6,3 procenta.V nespecializovaných prodejnách rostly tržby o 3,9 procenta, přitom vyšší nárůst vykázaly prodejny s převahou nepotravinářského zboží než v prodejnách s převahou potravin. Ve specializovaných prodejnách se výrazně zvýšil prodej u prodejen potravin a to o 8,3 procenta. Lidé nejvíce utráceli za textil a obuv, kde tržby vzrostly o 15,9 procenta. Na odbyt šla i elektronika, železářské zboží, nábytek a další zboží pro domácnost. Podle ekonomů ale tento trend nebude dlouho pokračovat. Podle Pavla Sobíška z HVB Bank vysoký růst maloobchodu způsobil větší počet pracovních dní a chladnější počasí, které hnalo turisty spíše do obchodů než za památkami.\"Ani jeden ze dvou hlavních tahounů srpnových tržeb, tedy vyšší počet pracovních dní a vyšší prodej nových aut, není přenosný do dalšího měsíce,\" doplnil Sobíšek.Ani David Navrátil z České spořitelny si nemyslí, že růst tento trend udrží. \"Růst cen benzínu (minulý měsíc), plynu (říjen a leden), elektřiny, TV poplatků a spotřební daně z cigaret (leden), na to naváže MHD... to vše zatíží rodinné rozpočty a na další nákupy zbude méně peněz,\" uvedl Navrátil.Také podle Anne-Francoise Blüherové z Komerční banky se dá předpokládat pokles tempa růstu. \"V dalším měsíci očekáváme opět desceleraci díky slabším prodejům aut a nižšímu počtu pracovních dnů,\" řekla analytička KB.\n",
      "Podle Eurostatu vzrostly meziročně kalendářně očištěné maloobchodní tržby v celé Evropské unii o 2,2 procenta. Nejlepší výsledky vykázaly Lotyšsko (o 22,6 procenta), Litva (o 14 procent) a Slovinsko (o 13,8 procenta). Naopak snížení tržeb v srpnu pozorovali v Lucembursku (o 4,4 procenta) a v Německu (o 0,8 procenta)\n",
      "\n",
      "Tržby maloobchodu se v srpnu meziročně zvedly o 5,9 procenta. To představuje nejvyšší růst od listopadu roku 2004. Nejvíce se na něm podílel prodej textilu a obuvi. Uvedl to v úterý Český statistický úřad (ČSÚ).\n"
     ]
    }
   ],
   "source": [
    "# get the first article\n",
    "article = jsonObj.iloc[2]\n",
    "print(article[\"text\"])\n",
    "\n",
    "print(\"\")\n",
    "\n",
    "print(article[\"abstract\"])"
   ]
  }
 ],
 "metadata": {
  "kernelspec": {
   "display_name": "Python 3",
   "language": "python",
   "name": "python3"
  },
  "language_info": {
   "codemirror_mode": {
    "name": "ipython",
    "version": 3
   },
   "file_extension": ".py",
   "mimetype": "text/x-python",
   "name": "python",
   "nbconvert_exporter": "python",
   "pygments_lexer": "ipython3",
   "version": "3.11.4"
  }
 },
 "nbformat": 4,
 "nbformat_minor": 2
}
