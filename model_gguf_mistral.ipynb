{
  "nbformat": 4,
  "nbformat_minor": 0,
  "metadata": {
    "colab": {
      "provenance": [],
      "gpuType": "T4"
    },
    "kernelspec": {
      "name": "python3",
      "display_name": "Python 3"
    },
    "language_info": {
      "name": "python"
    },
    "accelerator": "GPU"
  },
  "cells": [
    {
      "cell_type": "code",
      "execution_count": null,
      "metadata": {
        "id": "vp5U4zvr7Xbh"
      },
      "outputs": [],
      "source": [
        "!pip install huggingface-hub"
      ]
    },
    {
      "cell_type": "code",
      "source": [
        "!huggingface-cli download TheBloke/Mistral-7B-Instruct-v0.2-GGUF mistral-7b-instruct-v0.2.Q8_0.gguf --local-dir . --local-dir-use-symlinks False"
      ],
      "metadata": {
        "colab": {
          "base_uri": "https://localhost:8080/"
        },
        "id": "Ne9aZdOq-Ur6",
        "outputId": "341ec3aa-f6b3-4a75-e9e9-4d312e7e17d0"
      },
      "execution_count": 2,
      "outputs": [
        {
          "output_type": "stream",
          "name": "stdout",
          "text": [
            "Consider using `hf_transfer` for faster downloads. This solution comes with some limitations. See https://huggingface.co/docs/huggingface_hub/hf_transfer for more details.\n",
            "downloading https://huggingface.co/TheBloke/Mistral-7B-Instruct-v0.2-GGUF/resolve/main/mistral-7b-instruct-v0.2.Q8_0.gguf to /root/.cache/huggingface/hub/tmpgry6r52j\n",
            "mistral-7b-instruct-v0.2.Q8_0.gguf: 100% 7.70G/7.70G [06:07<00:00, 21.0MB/s]\n",
            "./mistral-7b-instruct-v0.2.Q8_0.gguf\n"
          ]
        }
      ]
    },
    {
      "cell_type": "code",
      "source": [
        "!nvcc --version"
      ],
      "metadata": {
        "colab": {
          "base_uri": "https://localhost:8080/"
        },
        "id": "gfkPmt7wDfo7",
        "outputId": "31825a78-e79a-4629-96cf-c712b3137067"
      },
      "execution_count": 1,
      "outputs": [
        {
          "output_type": "stream",
          "name": "stdout",
          "text": [
            "nvcc: NVIDIA (R) Cuda compiler driver\n",
            "Copyright (c) 2005-2023 NVIDIA Corporation\n",
            "Built on Tue_Aug_15_22:02:13_PDT_2023\n",
            "Cuda compilation tools, release 12.2, V12.2.140\n",
            "Build cuda_12.2.r12.2/compiler.33191640_0\n"
          ]
        }
      ]
    },
    {
      "cell_type": "code",
      "source": [
        "# using https://llama-cpp-python.readthedocs.io/en/latest/\n",
        "# install package with nvidia gpu acceleratior, {cu122} version of cuda in google collab\n",
        "!pip install llama-cpp-python \\\n",
        "  --extra-index-url https://abetlen.github.io/llama-cpp-python/whl/cu122"
      ],
      "metadata": {
        "id": "PpOP9NqHDv4s"
      },
      "execution_count": null,
      "outputs": []
    },
    {
      "cell_type": "code",
      "source": [
        "# # Run this to clean GPU memory\n",
        "# from numba import cuda\n",
        "# device = cuda.get_current_device()\n",
        "# device.reset()"
      ],
      "metadata": {
        "colab": {
          "base_uri": "https://localhost:8080/"
        },
        "id": "-MH8skXykLpF",
        "outputId": "71b55ccf-54fe-4107-8030-bc92c46e5cb8"
      },
      "execution_count": 12,
      "outputs": [
        {
          "output_type": "stream",
          "name": "stdout",
          "text": [
            "Requirement already satisfied: numba in /usr/local/lib/python3.10/dist-packages (0.58.1)\n",
            "Requirement already satisfied: llvmlite<0.42,>=0.41.0dev0 in /usr/local/lib/python3.10/dist-packages (from numba) (0.41.1)\n",
            "Requirement already satisfied: numpy<1.27,>=1.22 in /usr/local/lib/python3.10/dist-packages (from numba) (1.25.2)\n"
          ]
        }
      ]
    },
    {
      "cell_type": "code",
      "source": [
        "from llama_cpp import Llama\n",
        "\n",
        "model_pathname = \"./mistral-7b-instruct-v0.2.Q8_0.gguf\"\n",
        "# Set gpu_layers to the number of layers to offload to GPU. Set to 0 if no GPU acceleration is available on your system.\n",
        "llm = Llama(\n",
        "  model_path=model_pathname,  # Download the model file first\n",
        "  n_ctx=32768,          # 32768 # The max sequence length to use - note that longer sequence lengths require much more resources\n",
        "  n_threads=8,          # The number of CPU threads to use, tailor to your system and the resulting performance\n",
        "  n_gpu_layers=-1,       # The number of layers to offload to GPU, if you have GPU acceleration available\n",
        "  chat_format=\"llama-2\",\n",
        "  seed=-1,\n",
        ")\n",
        "\n",
        "prompt = \"Majki bitz\"\n",
        "\n",
        "# # Use when not using chat_completion api\n",
        "# output = llm(\n",
        "#   f'''[INST] {prompt} [/INST]''',\n",
        "#   temperature=0.3,\n",
        "#   top_p=0.95,\n",
        "#   top_k=40,\n",
        "#   max_tokens=256,\n",
        "#   stop=[\"</s>\"],\n",
        "#   echo=True\n",
        "# )\n",
        "# print(output)"
      ],
      "metadata": {
        "id": "oDuyhDTE7nQs"
      },
      "execution_count": null,
      "outputs": []
    },
    {
      "cell_type": "code",
      "source": [],
      "metadata": {
        "id": "4RvgbucFsN3i"
      },
      "execution_count": null,
      "outputs": []
    },
    {
      "cell_type": "code",
      "source": [
        "prompt = \"\"\"<s>[INST] Jste užitečný pomocník, který shrnuje text v českém jazyce.\\n \\\n",
        "'abstract': 'Marmoleum je známá značka linolea, které má mramorovaný vzhled. Linoleum se vyrábí smícháním lněného oleje, přírodní pryskyřice, dřevité moučky, vápence, za barevnost mohou přírodní pigmenty, jako podklad se používá přírodní juta. Jde čistě o přírodní produkt, který má dnes 180 odstínů a různé vzory (reliéfní najdeme v řadě crocodiles, cirrus má velmi jemné vroubkování, které připomíná jemný písek ve vodě apod.)'[/INST]\\n \\\n",
        "'headline': 'Trendy podlahy vyzývají ke kreativitě i návratu k přírodě'</s>\\n  \\\n",
        "[INST] 'abstract': 'Policisté po sedmi měsících zadrželi muže, který v lednu v Orlové na Karvinsku zneužil chlapce a dívku, kterým ještě nebylo ani deset let. Dvaatřicetiletého muže obvinili ze znásilnění. Hrozí mu až 12 let vězení.' [/INST]\\n \\\n",
        "'headline': 'Kriminalisté dopadli násilníka, který v lednu zneužil školáky z Orlové'</s>\\n \\\n",
        "[INST] 'abstract': 'Tržby maloobchodu se v srpnu meziročně zvedly o 5,9 procenta. To představuje nejvyšší růst od listopadu roku 2004. Nejvíce se na něm podílel prodej textilu a obuvi. Uvedl to v úterý Český statistický úřad (ČSÚ).' [/INST]\"\"\"\n",
        "\n",
        "print(prompt)"
      ],
      "metadata": {
        "colab": {
          "base_uri": "https://localhost:8080/"
        },
        "id": "GcSnBOUGmix7",
        "outputId": "c833b763-d4e1-433e-9405-01f2671289e3"
      },
      "execution_count": 13,
      "outputs": [
        {
          "output_type": "stream",
          "name": "stdout",
          "text": [
            "<s>[INST] Jste užitečný pomocník, který shrnuje text v českém jazyce.\n",
            " 'abstract': 'Marmoleum je známá značka linolea, které má mramorovaný vzhled. Linoleum se vyrábí smícháním lněného oleje, přírodní pryskyřice, dřevité moučky, vápence, za barevnost mohou přírodní pigmenty, jako podklad se používá přírodní juta. Jde čistě o přírodní produkt, který má dnes 180 odstínů a různé vzory (reliéfní najdeme v řadě crocodiles, cirrus má velmi jemné vroubkování, které připomíná jemný písek ve vodě apod.)'[/INST]\n",
            " 'headline': 'Trendy podlahy vyzývají ke kreativitě i návratu k přírodě'</s>\n",
            "  [INST] 'abstract': 'Policisté po sedmi měsících zadrželi muže, který v lednu v Orlové na Karvinsku zneužil chlapce a dívku, kterým ještě nebylo ani deset let. Dvaatřicetiletého muže obvinili ze znásilnění. Hrozí mu až 12 let vězení.' [/INST]\n",
            " 'headline': 'Kriminalisté dopadli násilníka, který v lednu zneužil školáky z Orlové'</s>\n",
            " [INST] 'abstract': 'Tržby maloobchodu se v srpnu meziročně zvedly o 5,9 procenta. To představuje nejvyšší růst od listopadu roku 2004. Nejvíce se na něm podílel prodej textilu a obuvi. Uvedl to v úterý Český statistický úřad (ČSÚ).' [/INST]\n"
          ]
        }
      ]
    },
    {
      "cell_type": "code",
      "source": [
        "\n",
        "# Use when not using chat_completion api\n",
        "output = llm(\n",
        "  prompt,\n",
        "  temperature=0.3,\n",
        "  top_p=0.95,\n",
        "  top_k=40,\n",
        "  max_tokens=256,\n",
        "  stop=[\"</s>\"],\n",
        "  echo=False\n",
        ")\n",
        "print(output)"
      ],
      "metadata": {
        "colab": {
          "base_uri": "https://localhost:8080/"
        },
        "id": "wGI90Sv7sCWH",
        "outputId": "bb1fa9ea-23f4-4097-c0bd-3aea955f1bda"
      },
      "execution_count": 14,
      "outputs": [
        {
          "output_type": "stream",
          "name": "stderr",
          "text": [
            "Llama.generate: prefix-match hit\n",
            "\n",
            "llama_print_timings:        load time =     580.35 ms\n",
            "llama_print_timings:      sample time =      33.95 ms /    47 runs   (    0.72 ms per token,  1384.51 tokens per second)\n",
            "llama_print_timings: prompt eval time =     943.96 ms /   482 tokens (    1.96 ms per token,   510.62 tokens per second)\n",
            "llama_print_timings:        eval time =    1636.65 ms /    46 runs   (   35.58 ms per token,    28.11 tokens per second)\n",
            "llama_print_timings:       total time =    2836.88 ms /   528 tokens\n"
          ]
        },
        {
          "output_type": "stream",
          "name": "stdout",
          "text": [
            "{'id': 'cmpl-1ac6a0da-0fbe-42e0-aa69-56afd5f8b64d', 'object': 'text_completion', 'created': 1712529176, 'model': './mistral-7b-instruct-v0.2.Q8_0.gguf', 'choices': [{'text': \" 'headline': 'Maloobchodní tržby rostou nejrychleji od roku 2004, zvýšily se o 5,9 % v srpnu'\", 'index': 0, 'logprobs': None, 'finish_reason': 'stop'}], 'usage': {'prompt_tokens': 512, 'completion_tokens': 46, 'total_tokens': 558}}\n"
          ]
        }
      ]
    },
    {
      "cell_type": "code",
      "source": [
        "# # Chat Completion API\n",
        "\n",
        "# headline: \"Trendy podlahy vyzývají ke kreativitě i návratu k přírodě\"\n",
        "\n",
        "# # MISTRAL doesnt uses system prompt\n",
        "\n",
        "# llm.create_chat_completion(\n",
        "#     temperature=0.3,\n",
        "#     top_p=0.95,\n",
        "#     top_k=40,\n",
        "#     stop=[\"</s>\"],\n",
        "#     messages = [\n",
        "#         {\n",
        "#             \"role\": \"user\",\n",
        "#             \"content\": \"Kdo hledá do interiéru tak trochu jinou podlahu, určitě dříve či později objeví přírodní marmoleum, nové dekory měkčeného PVC nebo sametový vinyl s názvem Flotex, který nejvíce připomíná nakrátko střižený koberec. Jsou to všechno materiály nejen krásné, ale hlavně praktické a cenově přijatelné.\"\n",
        "#         }\n",
        "#     ]\n",
        "# )"
      ],
      "metadata": {
        "id": "2JTpnwUYf6uG"
      },
      "execution_count": 6,
      "outputs": []
    }
  ]
}