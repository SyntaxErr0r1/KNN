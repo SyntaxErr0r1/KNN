{
 "cells": [
  {
   "cell_type": "markdown",
   "metadata": {},
   "source": [
    "## Tool for making calls to OpenAI API to create the dataset"
   ]
  },
  {
   "cell_type": "code",
   "execution_count": 2,
   "metadata": {},
   "outputs": [],
   "source": [
    "from openai import OpenAI\n",
    "from dotenv import load_dotenv\n",
    "\n",
    "load_dotenv()\n",
    "client = OpenAI()\n",
    "\n",
    "response = client.chat.completions.create(\n",
    "  model = \"gpt-3.5-turbo-0125\",\n",
    "  temperature = 0.8,\n",
    "  max_tokens = 3000,\n",
    "#   response_format={ \"type\": \"json_object\" },\n",
    "  messages = [\n",
    "    {\"role\": \"system\", \"content\": \"Jsi pracovník, který má za úkol sumarizovat text. Když ti někdo pošle článek, tvou odpovědí bude 5 vět shrnujícich podstatné informace.\"},\n",
    "    # {\"role\": \"user\", \"content\": \"Write a dad joke related to numbers.\"},\n",
    "    # {\"role\": \"assistant\", \"content\": \"Q: How do you make 7 even? A: Take away the s.\"},\n",
    "    {\"role\": \"user\", \"content\": \"\"\"Roční dálniční známka od 1. března zdražila z 1500 na 2300 korun. Desetidenní kupon naopak zlevnil o 40 korun na 270 korun a měsíční stojí 430 korun místo 440 korun. Přibyla jednodenní dálniční známka za 200 korun.\n",
    "\n",
    "Ceny dálničních známek se v Česku změnily po 12 letech. Seznam Zprávy zjišťovaly, kolik známek stát prodal po změnách cen a o jaké byl největší zájem.\n",
    "\n",
    "„Od 1. 3. do 27. 3. se prodalo celkem 414 768 elektronických dálničních známek,“ uvedla Jana Jandová za státní podnik Cendis.\n",
    "\n",
    "Největší zájem měli v březnu řidiči o desetidenní dálniční známky, stát jich prodal více než 200 tisíc. Na druhém místě se umístily roční známky, těch si řidiči koupili 93 tisíc. Na třetím místě skončila novinka - známka na jeden den. Prodalo se jich 85 tisíc.\n",
    "\n",
    "Prodej dálničních známek za březen (1.3.-27.3.2024)\n",
    "Roční - 93 047  kusů\n",
    "\n",
    "30 denní - 32 696 kusů\n",
    "\n",
    "10 denní - 203 236 kusů\n",
    "\n",
    "Jednodenní - 85 789 kusů\n",
    "\n",
    "Zdroj: Vyjádření CENDIS pro Seznam Zprávy\n",
    "\n",
    "Nejmenší zájem byl v březnu o 30denní dálniční známky. Prodalo se jich témeř 33 tisíc. Nejčastěji si lidé kupují známky přes státní internetový obchod.\n",
    "\n",
    "Těsně před zdražením, v poslední únorový den, řidiči zakoupili zatím nejvíc elektronických dálničních známek od spuštění systému v prosinci 2020. Pořídili jich přes 219 tisíc za 316,2 milionu korun. V největší špičce se prodalo pět kuponů za sekundu.\n",
    "\n",
    "\n",
    "Kdo postaví další dálnici na Moravu? Prioritní projekt vlády je v nesnázích\n",
    "26. 3. 2024 9:45\n",
    "Ministr dopravy Martin Kupka (ODS) už dříve řidičům doporučil kupovat dálniční známky přes oficiální státní e-shop.\n",
    "\n",
    "„Doporučujeme každému, aby ke koupi dálniční známky využil pouze oficiální webové stránky www.edalnice.cz. Známku bez dalších poplatků lze rovněž pořídit na pobočkách České pošty a na čerpacích stanicích EuroOil.“\n",
    "\n",
    "Varování před neoficiálními prodejci\n",
    "„Je plně na uvážení kupujícího, zda si zakoupí elektronickou dálniční známku v oficiálním prodeji za cenu stanovenou v nařízení vlády, nebo za cenu vyšší u jiných prodejců. Vždy by však měl být informován o ceně samotné dálniční známky, ceně služby a podmínkách, za kterých je mu elektronická dálniční známka včetně služby nabízena,“ říká ústřední ředitel České obchodní inspekce Jan Štěpánek.\n",
    "\n",
    "Ministerstvo dopravy nedávno zveřejnilo seznam neoficiálních prodejců na svých webových stránkách.\n",
    "\n",
    "Ceny dálničních známek od 1. 3. 2024\n",
    "Standardní cena\tCena pro vozidla zemní plyn nebo biometan\tCena pro hybridy s emisemi CO2 do 50 g / km\tCena pro elektromobily\n",
    "roční\t2 300 Kč\t1 150 Kč\t570 Kč\t0 Kč\n",
    "měsíční\t430 Kč\t210 Kč\t100 Kč\t0 Kč\n",
    "10denní\t270 Kč\t130 Kč\t60 Kč\t0 Kč\n",
    "denní\t200 Kč\t100 Kč\t50 Kč\t0 Kč\n",
    "Zdroj: Ministerstvo dopravy\"\"\"}\n",
    "  ]\n",
    ")"
   ]
  },
  {
   "cell_type": "code",
   "execution_count": 3,
   "metadata": {},
   "outputs": [
    {
     "name": "stdout",
     "output_type": "stream",
     "text": [
      "ChatCompletion(id='chatcmpl-98dKZXEZP4DVMzds3mXU1p25tdgNc', choices=[Choice(finish_reason='stop', index=0, logprobs=None, message=ChatCompletionMessage(content='1. Dálniční známky v Česku zdražily po 12 letech, přičemž roční známka nyní stojí 2300 Kč a desetidenní kupon zlevnil na 270 Kč.\\n2. Největší zájem byl o desetidenní dálniční známky, kterých se prodalo více než 200 tisíc, následované ročními a jednodenními známkami.\\n3. Za březen se prodalo celkem 414 768 elektronických dálničních známek, přičemž nejméně zájem byl o 30denní známky.\\n4. Lidé nejčastěji kupují známky přes státní internetový obchod a těsně před zdražením se prodalo nejvíce elektronických dálničních známek.\\n5. Ministr dopravy doporučuje kupovat známky pouze přes oficiální webové stránky a varuje před neoficiálními prodejci, kteří mohou nabízet vyšší ceny.', role='assistant', function_call=None, tool_calls=None))], created=1711844839, model='gpt-3.5-turbo-0125', object='chat.completion', system_fingerprint='fp_3bc1b5746c', usage=CompletionUsage(completion_tokens=301, prompt_tokens=1298, total_tokens=1599))\n"
     ]
    }
   ],
   "source": [
    "print(response)"
   ]
  },
  {
   "cell_type": "code",
   "execution_count": 4,
   "metadata": {},
   "outputs": [
    {
     "name": "stdout",
     "output_type": "stream",
     "text": [
      "1. Dálniční známky v Česku zdražily po 12 letech, přičemž roční známka nyní stojí 2300 Kč a desetidenní kupon zlevnil na 270 Kč.\n",
      "2. Největší zájem byl o desetidenní dálniční známky, kterých se prodalo více než 200 tisíc, následované ročními a jednodenními známkami.\n",
      "3. Za březen se prodalo celkem 414 768 elektronických dálničních známek, přičemž nejméně zájem byl o 30denní známky.\n",
      "4. Lidé nejčastěji kupují známky přes státní internetový obchod a těsně před zdražením se prodalo nejvíce elektronických dálničních známek.\n",
      "5. Ministr dopravy doporučuje kupovat známky pouze přes oficiální webové stránky a varuje před neoficiálními prodejci, kteří mohou nabízet vyšší ceny.\n"
     ]
    }
   ],
   "source": [
    "print(response.choices[0].message.content)"
   ]
  }
 ],
 "metadata": {
  "kernelspec": {
   "display_name": "Python 3",
   "language": "python",
   "name": "python3"
  },
  "language_info": {
   "codemirror_mode": {
    "name": "ipython",
    "version": 3
   },
   "file_extension": ".py",
   "mimetype": "text/x-python",
   "name": "python",
   "nbconvert_exporter": "python",
   "pygments_lexer": "ipython3",
   "version": "3.11.4"
  }
 },
 "nbformat": 4,
 "nbformat_minor": 2
}
