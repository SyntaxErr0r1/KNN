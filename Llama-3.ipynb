{
 "cells": [
  {
   "cell_type": "code",
   "execution_count": 1,
   "id": "084cc584",
   "metadata": {},
   "outputs": [
    {
     "name": "stdout",
     "output_type": "stream",
     "text": [
      "Tue Apr 30 16:56:18 2024       \n",
      "+-----------------------------------------------------------------------------------------+\n",
      "| NVIDIA-SMI 550.54.14              Driver Version: 550.54.14      CUDA Version: 12.4     |\n",
      "|-----------------------------------------+------------------------+----------------------+\n",
      "| GPU  Name                 Persistence-M | Bus-Id          Disp.A | Volatile Uncorr. ECC |\n",
      "| Fan  Temp   Perf          Pwr:Usage/Cap |           Memory-Usage | GPU-Util  Compute M. |\n",
      "|                                         |                        |               MIG M. |\n",
      "|=========================================+========================+======================|\n",
      "|   0  NVIDIA A40                     On  |   00000000:61:00.0 Off |                    0 |\n",
      "|  0%   46C    P0             62W /  300W |       0MiB /  46068MiB |      0%      Default |\n",
      "|                                         |                        |                  N/A |\n",
      "+-----------------------------------------+------------------------+----------------------+\n",
      "                                                                                         \n",
      "+-----------------------------------------------------------------------------------------+\n",
      "| Processes:                                                                              |\n",
      "|  GPU   GI   CI        PID   Type   Process name                              GPU Memory |\n",
      "|        ID   ID                                                               Usage      |\n",
      "|=========================================================================================|\n",
      "|  No running processes found                                                             |\n",
      "+-----------------------------------------------------------------------------------------+\n"
     ]
    }
   ],
   "source": [
    "!nvidia-smi"
   ]
  },
  {
   "cell_type": "markdown",
   "id": "b35e87dc",
   "metadata": {},
   "source": [
    "### Clean the GPU"
   ]
  },
  {
   "cell_type": "code",
   "execution_count": 2,
   "id": "15b15113",
   "metadata": {},
   "outputs": [],
   "source": [
    "# # Run this to clean GPU memory\n",
    "import torch\n",
    "from numba import cuda\n",
    "device = cuda.get_current_device()\n",
    "device.reset()\n",
    "torch.cuda.empty_cache()"
   ]
  },
  {
   "cell_type": "code",
   "execution_count": 3,
   "id": "9333dffb",
   "metadata": {},
   "outputs": [
    {
     "data": {
      "application/vnd.jupyter.widget-view+json": {
       "model_id": "05586ab778c44b67b3bf7eed8e561a42",
       "version_major": 2,
       "version_minor": 0
      },
      "text/plain": [
       "Loading checkpoint shards:   0%|          | 0/4 [00:00<?, ?it/s]"
      ]
     },
     "metadata": {},
     "output_type": "display_data"
    },
    {
     "name": "stderr",
     "output_type": "stream",
     "text": [
      "Special tokens have been added in the vocabulary, make sure the associated word embeddings are fine-tuned or trained.\n"
     ]
    }
   ],
   "source": [
    "import transformers\n",
    "import torch\n",
    "\n",
    "model_id = \"meta-llama/Meta-Llama-3-8B-Instruct\"\n",
    "\n",
    "pipeline = transformers.pipeline(\n",
    "    \"text-generation\",\n",
    "    model=model_id,\n",
    "    model_kwargs={\"torch_dtype\": torch.bfloat16},\n",
    "    device=0,\n",
    ")\n"
   ]
  },
  {
   "cell_type": "code",
   "execution_count": null,
   "id": "e5da32e1",
   "metadata": {},
   "outputs": [],
   "source": [
    "# messages = [\n",
    "#     {\"role\": \"system\", \"content\": \"You are a pirate chatbot who always responds in pirate speak!\"},\n",
    "#     {\"role\": \"user\", \"content\": \"Who are you?\"},\n",
    "# ]\n",
    "\n",
    "messages = [\n",
    "    {\"role\": \"system\", \"content\": \"Jsi sumarizátor textu, vždy odpovíš pouze nadpis pro poskytnutý článek.\"},\n",
    "    {\"role\": \"user\", \"content\": \"Turisticky zajímavé městečko Loket, jehož krásy si přijede prohlédnout ročně sto tisíc lidí, se topí ve finančních problémech. Bankám se nezamlouvá jeho hospodaření, a tak mu nechtějí půjčit. Hrozí, že město nebude mít ani na opravu amfiteátru nebo stavbu parkoviště.\"},\n",
    "]\n",
    "\n",
    "prompt = pipeline.tokenizer.apply_chat_template(\n",
    "        messages, \n",
    "        tokenize=False, \n",
    "        add_generation_prompt=True\n",
    ")\n",
    "\n",
    "terminators = [\n",
    "    pipeline.tokenizer.eos_token_id,\n",
    "    pipeline.tokenizer.convert_tokens_to_ids(\"<|eot_id|>\")\n",
    "]\n",
    "\n",
    "outputs = pipeline(\n",
    "    prompt,\n",
    "    max_new_tokens=256,\n",
    "    eos_token_id=terminators,\n",
    "    do_sample=True,\n",
    "    temperature=0.6,\n",
    "    top_p=0.9,\n",
    ")\n",
    "print(outputs[0][\"generated_text\"][len(prompt):])"
   ]
  },
  {
   "cell_type": "markdown",
   "id": "6bc30042",
   "metadata": {},
   "source": [
    "### Testing"
   ]
  },
  {
   "cell_type": "code",
   "execution_count": 2,
   "id": "736f8923",
   "metadata": {},
   "outputs": [],
   "source": [
    "from transformers import AutoModelForCausalLM, AutoTokenizer, BitsAndBytesConfig,HfArgumentParser,TrainingArguments,pipeline, logging, pipeline\n",
    "from peft import LoraConfig, PeftModel, prepare_model_for_kbit_training, get_peft_model\n",
    "import os,torch\n",
    "from accelerate import Accelerator\n",
    "from trl import SFTTrainer\n",
    "from datasets import Dataset, load_dataset, load_from_disk\n",
    "import copy"
   ]
  },
  {
   "cell_type": "code",
   "execution_count": 3,
   "id": "714fd215",
   "metadata": {},
   "outputs": [],
   "source": [
    "model_id = \"meta-llama/Meta-Llama-3-8B-Instruct\""
   ]
  },
  {
   "cell_type": "code",
   "execution_count": 4,
   "id": "aa5ce671",
   "metadata": {},
   "outputs": [
    {
     "data": {
      "application/vnd.jupyter.widget-view+json": {
       "model_id": "d2793c00ed1644728034ceb88a2528e6",
       "version_major": 2,
       "version_minor": 0
      },
      "text/plain": [
       "Loading checkpoint shards:   0%|          | 0/4 [00:00<?, ?it/s]"
      ]
     },
     "metadata": {},
     "output_type": "display_data"
    },
    {
     "name": "stderr",
     "output_type": "stream",
     "text": [
      "Special tokens have been added in the vocabulary, make sure the associated word embeddings are fine-tuned or trained.\n"
     ]
    }
   ],
   "source": [
    "pipeline = pipeline(\n",
    "    \"text-generation\",\n",
    "    model=model_id,\n",
    "    model_kwargs={\"torch_dtype\": torch.bfloat16},\n",
    "    device=0,\n",
    ")"
   ]
  },
  {
   "cell_type": "code",
   "execution_count": 5,
   "id": "76e5b1bd",
   "metadata": {},
   "outputs": [],
   "source": [
    "import json\n",
    "from typing import List, Dict\n",
    "import glob\n",
    "from torch.utils.data import Dataset, DataLoader\n",
    "import os\n",
    "\n",
    "SUMECZECH_TEST = \"./sumeczech/sumeczech-1.0-test.jsonl\"\n",
    "\n",
    "class SummaryDatasetSumeCzech(Dataset):\n",
    "    def __init__(self, data_path: str):\n",
    "        \"\"\"\n",
    "        Args:\n",
    "            data_path (str): Path to the data file\n",
    "        \"\"\"\n",
    "        self.data = []\n",
    "        with open(data_path, \"r\") as f:\n",
    "            for line in f:\n",
    "                self.data.append(json.loads(line))\n",
    "\n",
    "\n",
    "    def __len__(self):\n",
    "        return len(self.data)\n",
    "\n",
    "    def __getitem__(self, idx):\n",
    "        return self.data[idx]\n",
    "\n",
    "dataset = SummaryDatasetSumeCzech(os.path.join(SUMECZECH_TEST))\n",
    "data_loader = DataLoader(dataset, batch_size=1, shuffle=False, num_workers=1)"
   ]
  },
  {
   "cell_type": "code",
   "execution_count": 6,
   "id": "22a3efb4",
   "metadata": {},
   "outputs": [
    {
     "name": "stderr",
     "output_type": "stream",
     "text": [
      "Setting `pad_token_id` to `eos_token_id`:128001 for open-end generation.\n",
      "Setting `pad_token_id` to `eos_token_id`:128001 for open-end generation.\n",
      "Setting `pad_token_id` to `eos_token_id`:128001 for open-end generation.\n",
      "Setting `pad_token_id` to `eos_token_id`:128001 for open-end generation.\n",
      "Setting `pad_token_id` to `eos_token_id`:128001 for open-end generation.\n",
      "Setting `pad_token_id` to `eos_token_id`:128001 for open-end generation.\n"
     ]
    }
   ],
   "source": [
    "# 3 shots of prompt are from dev dataset\n",
    "chat_abstract_to_headline_3shot = [\n",
    "  {\"role\": \"user\", \"content\": \"Jste užitečným pomocníkem, který shrne text v českém jazyce pro různé typy sumarizací.\\n 'abstract': 'Dlouho očekávaný model Moto X, jehož vzhled si určí sám uživatel, přestavila společnost Motorola ještě pod hlavičkou Googlu již v srpnu 2013. Právě široká možnost personalizace však vadí šéfdesignérovi Applu, který si neodpustil kritiku. Motorola reagovala kritikou předražených produktů Applu.'\"},\n",
    "  {\"role\": \"assistant\", \"content\": \"iPhony za nehorázné ceny nemají budoucnost, vrací Motorola kritiku Applu.\"},\n",
    "  {\"role\": \"user\", \"content\": \"'abstract': 'Silný vítr, který přechází s frontou přes Česko od západu, se kolem poledne opřel do hřebenů Krkonoš silou orkánu. Na Luční boudě naměřili v nárazech 127 kilometrů za hodinu. Pak vichr zeslábl, ale v noci se čeká další úder. V horách silně sněží a silnice kloužou. Horská služba nedoporučuje hřebenové túry.'\"},\n",
    "  {\"role\": \"assistant\", \"content\": \"Orkán zastavil lanovku na Sněžku, hřebenové túry jsou nebezpečné.\"},\n",
    "  {\"role\": \"user\", \"content\": \"'abstract': 'Asi osm kilometrů severně od Turnova nad obcí Frýdštejn je 657 metrů vysoký zalesněný vrch Kopanina s 18 metrů vysokou cihlovou rozhlednou. Věž zde byla postavena Klubem českých turistů v roce 1894. Nejlépe se k ní dostaneme, když zaparkujeme auto ve stejnojmenné osadě u Myslivecké chaty Kopanina. Odtud je to asi půl kilometru pěšky po modré až k rozhledně.'\"},\n",
    "  {\"role\": \"assistant\", \"content\": \"Co lze vidět na Kopanině\"},\n",
    "  {\"role\": \"user\", \"content\": \"\"},\n",
    "]\n",
    "\n",
    "chat_text_to_abstract_3shot = [\n",
    "  {\"role\": \"user\", \"content\": \"Jste užitečným pomocníkem, který shrne text v českém jazyce pro různé typy sumarizací. Shrň text ze zpravodajského článku do abstraktu dlouhého přibližně 3 až 6 vět\\n 'text': 'Klíč od rozhledny je v domku č. 14 u autobusové zastávky. Nejbližší železniční zastávka je v Rychnově u Jablonce nad Nisou, která je vzdálena od Kopaniny přibližně čtyři kilometry.\\nVystoupíme-li po 93 schodech na věž, naskytne se nám pěkný rozhled do kraje. Severními směry je vidět Ještěd s televizním vysílačem, Jizerské hory s horou Jizerou a některými rozhlednami, jako je Královka, Bramberk a Černá studnice. Severovýchodně a východně spatříme Krkonoše s horou Szrenicou s horskou chatou a televizní věž nad Sněžnými jámami v Polsku, dále Kotel, Luční horu, Žalý s rozhlednou a Černou horu s televizním vysílačem. Jihovýchodně vidíme vrchy Zvičinu, Tábor s rozhlednou, Kozákov s rozhlednou a v údolí nedaleký hrad Frýdštejn, jižně a severozápadně hrad Ralsko, Klíč v Lužických horách a další kopce. Nejbližší občerstvení je k dispozici v Myslivecké chatě Kopanina, u které jsme nechali stát auto.\\nV okolí Kopaniny je pak řada dalších turisticky zajímavých míst. Tak například asi dva kilometry po modré značce se dostaneme ke zřícenině hradu Frýdštejn ze 14. století. Nedaleko od hradu můžeme zaparkovat i auta. Dominantou Frýdštejna je válcová věž, ostatní části tvoří zbytky zdí a ve skalách vytesané místnosti. K jiné zajímavé zřícenině, hradu Vranov, můžeme pokračovat zhruba další dva kilometry po červené. Na mohutném skalním bloku se z něj zachovaly malé zbytky zdí, místnosti vytesané ve skalách, kaple z roku 1826 a několik pěkných vyhlídek. V nejbližším okolí jsou také poměrně méně známé skalní útvary Suché a Klokočské skály.\\nZ rozhledny na vrchu Kopanina je za jakéhokoli počasí dobře vidět nejbližší město Turnov. Jeho dominantou je novogotický kostel s nedostavěnou věží. (23. srpna 2001)'\"},\n",
    "  {\"role\": \"assistant\", \"content\": \"Asi osm kilometrů severně od Turnova nad obcí Frýdštejn je 657 metrů vysoký zalesněný vrch Kopanina s 18 metrů vysokou cihlovou rozhlednou. Věž zde byla postavena Klubem českých turistů v roce 1894. Nejlépe se k ní dostaneme, když zaparkujeme auto ve stejnojmenné osadě u Myslivecké chaty Kopanina. Odtud je to asi půl kilometru pěšky po modré až k rozhledně.\"},\n",
    "  {\"role\": \"user\", \"content\": \"'text': 'Od rána napadlo deset až patnáct centimetrů sněhu, na Luční boudě je ho kolem šedesáti centimetrů. Vítr tam teď fouká od jihu, v nárazech kolem 90 kilometrů za hodinu,\\\" řekl iDNES.cz po 14. hodině Adolf Klepš, šéf Horské služby Krkonoše. Podle královéhradeckého meteorologa Jiřího Jakubského se večer a v noci čeká opět zesílení větru až na sílu orkánu, tedy nad 118 kilometrů za hodinu. Slábnutí meteorologové předpovídají až na sobotu. V nižších polohách hor zdaleka zdaleka tolik nefoukalo, například v lyžařských střediscích nebo v krkonošských městech. Všude ale silně sněžilo a klouzaly silnice. \\\"Problémy začínají mít řidiči v okolí Vrchlabí, Pece pod Sněžkou, Špindlerova Mlýna, ale i na silnicích v nižších polohách, například mezi obcemi Mladé Buky a Rudník ve směru od Trutnova na Vrchlabí,\\\" uvedl dvě hodiny po poledni policejní mluvčí Udo Ertner. Silný vítr také zastavil provoz lanovky z Růžové hory na Sněžku. Dojet bylo možné je z Pece pod Sněžkou do mezistanice, ale i o to by v pátek minimální zájem. \\\"Od rána přišlo asi deset lidí, nahoře je mlha,\\\" řekla odpoledne agentuře ČTK pracovnice lanovky. Horská služba podle Klepše nedoporučuje hřebenové túry. Pokud bude vývoj počasí pokračovat podle meteorologů, nebude je doporučovat ani o víkendu. \\\"Očekáváme zvýšení stupně lavinového nebezpečí nejméně na druhý stupeň, záleží na množství sněhu a síle větru,\\\" upřesnil Klepš. Podle meteorologů hrozí v noci a v sobotu dopoledne už v polohách nad 600 metrů nad mořem tvoření sněhových jazyků, na horách i závějí. (více o vydané výstraze čtěte zde).'\"},\n",
    "  {\"role\": \"assistant\", \"content\": \"Silný vítr, který přechází s frontou přes Česko od západu, se kolem poledne opřel do hřebenů Krkonoš silou orkánu. Na Luční boudě naměřili v nárazech 127 kilometrů za hodinu. Pak vichr zeslábl, ale v noci se čeká další úder. V horách silně sněží a silnice kloužou. Horská služba nedoporučuje hřebenové túry.\"},\n",
    "  {\"role\": \"user\", \"content\": \"'text': 'Myšlenku dát spotřebitelům volnou ruku nad finálním vzhledem telefonu zkritizoval hlavní designér Applu Jonathan Ive v nedávném rozhovoru pro magazín New Yorker. I přes to, že výslovně požádal, aby nebyla společnost jmenována, je patrné, že kritika padá na hlavu Motoroly. Ta jediná totiž umožňuje koncovým uživatelům takovou volnost v dosažení individuálního vzhledu konečného produktu.Zobrazit fotogalerii\\\"Vytvořte si, co chcete. Můžete si vybrat barvu, jakou chcete,\\\" citoval magazín Iveovu narážku na myšlenku konkurence. Právě tento krok totiž Ive vnímá tak, že se designer Motoroly pouze zbavil odpovědnosti za konečný vzhled smartphonu. Ten nechává čistě v rukou každého uživatele.Oproti Applu, jehož dva iPhony aktuální generace jsou k dispozici pouze ve třech barevných odstínech, tak mají výrazně širší možnosti. Personifikace Moto X spočívá především ve výběru pojetí zadního krytu. Může být kožený, dřevěný, či z měkčeného plastu. A vždy v několika odstínech. Barevnému přizpůsobení pak podléhá například i taková drobnost jako mřížka sluchátka. Záda telefonu mohou být opatřena i třeba krátkým mottem či věnováním.Motorola si samozřejmě Iveovu kritika nenechala líbit. \\\"Naše společnost měla jinou filozofii,\\\" reagoval výkonný ředitel Motoroly Rick Osterloh prostřednictvím BBC. \\\"Naší myšlenkou je, že by koncový uživatel měl být přímo zapojen do procesu návrhu produktu,\\\" dodal s tím, že produktové řady Motoroly jsou dostupné širokému spektru uživatelů. Neodpustil si totiž kritiku na adresu Applu, a to kvůli pobuřující výši prodejních cen jeho produktů.Osterloh věří, že firemní strategie, za níž je společnost šéfdesignérem Applu kritizována, je správná. \\\"Jsme přesvědčeni, že budoucnost je v nabídce podobných možností a ve velkém výběru za dostupné ceny,\\\" dodal.Naopak v produktech za \\\"nehorázné ceny\\\" žádnou budoucnost nevidí. Podle Osterloha by neměl být smartphone a mobilní internet drahým luxusem, nýbrž jednoduchou volbou pro každého.Jonathan Ive je asi nejvlivnějším designérem světa, který má lví podíl na nevídaném úspěchu společnosti Apple. Jednoduchost, jakési nevyřčené motto firmy, vtiskl úspěšnému iPodu, iPhonu i tabletu iPad.\\nDo Applu, s nímž již dříve spolupracoval ve vlastním poradenském studiu Tangerine, nastoupil v roce 1992. V roce 1996, rok před návratem Steva Jobse, se stal šéfem designového oddělení společnosti.\\nIveovy výrobky získaly obrovskou řadu ocenění včetně prestižního Design Award Excellence v USA. Je také držitelem ocenění designéra roku od Londýnského muzea designu. Za přínos britskému impériu byl oceněn královskou rodinou nejvyšším britským řádem a povýšen do šlechtického stavu.\\nBez něj by iPhone nevznikl, ale nikdo ho nezná. Sir Jonathan Ive.'\"},\n",
    "  {\"role\": \"assistant\", \"content\": \"Dlouho očekávaný model Moto X, jehož vzhled si určí sám uživatel, přestavila společnost Motorola ještě pod hlavičkou Googlu již v srpnu 2013. Právě široká možnost personalizace však vadí šéfdesignérovi Applu, který si neodpustil kritiku. Motorola reagovala kritikou předražených produktů Applu.\"},\n",
    "  {\"role\": \"user\", \"content\": \"\"},\n",
    "]\n",
    "\n",
    "chat_abstract_to_headline_0shot = [\n",
    "    {\"role\": \"system\", \"content\": \"Jsi sumarizátor textu, vždy odpovíš pouze nadpis pro poskytnutý článek.\"},\n",
    "     {\"role\": \"user\", \"content\": \"\"},\n",
    "]\n",
    "\n",
    "# Baseline will be calculated out of 150 sampels from test dataset\n",
    "# Creating json data formated for benchmarking\n",
    "json_data_3shot_abstract_to_headline = {\n",
    "    \"dataset\": \"sumeczech\",\n",
    "    \"type\": \"3shot_abstract_to_headline\",\n",
    "    \"model\": \"llama3-8b-instruct\",\n",
    "    \"abstracts\" : [],\n",
    "    \"references\": [],\n",
    "    \"predictions\": []\n",
    "}\n",
    "\n",
    "json_data_3shot_text_to_abstract = {\n",
    "    \"dataset\": \"sumeczech\",\n",
    "    \"type\": \"3shot_text_to_abstract\",\n",
    "    \"model\": \"mllama3-8b-instruct\",\n",
    "    \"texts\" : [],\n",
    "    \"references\": [],\n",
    "    \"predictions\": []\n",
    "}\n",
    "\n",
    "json_data_0shot_abstract_to_headline = {\n",
    "    \"dataset\": \"sumeczech\",\n",
    "    \"type\": \"0shot_abstract_to_headline\",\n",
    "    \"model\": \"llama3-8b-instruct\",\n",
    "    \"abstracts\" : [],\n",
    "    \"references\": [],\n",
    "    \"predictions\": []\n",
    "}\n",
    "\n",
    "for i, batch in enumerate(data_loader):\n",
    "    # get abstract and headline\n",
    "\n",
    "    abstract = batch['abstract'][0]\n",
    "    headline = batch['headline'][0]\n",
    "    text = batch['text'][0]\n",
    "\n",
    "    format_content_abstract = \"'abstract': '{abstract}'\"\n",
    "    format_content_text = \"'text': '{text}'\"\n",
    "    format_content_abstract_0shot = \"{abstract}\"\n",
    "\n",
    "    # create prompt\n",
    "    # chat_abstract_to_headline_3shot[-1]['content'] = format_content_abstract.format(abstract=abstract)\n",
    "    # chat_text_to_abstract_3shot[-1]['content'] = format_content_text.format(text=text)\n",
    "    chat_abstract_to_headline_0shot[-1]['content'] = format_content_abstract_0shot.format(abstract=abstract)\n",
    "\n",
    "    # prompt_3shot_abstract_to_headline = tokenizer.apply_chat_template(chat_abstract_to_headline_3shot, tokenize=False)\n",
    "    # prompt_3shot_text_to_abstract = tokenizer.apply_chat_template(chat_text_to_abstract_3shot, tokenize=False)\n",
    "#     prompt_0shot_abstract_to_headline = tokenizer.apply_chat_template(chat_abstract_to_headline_0shot, tokenize=False, add_generation_prompt=False)\n",
    "\n",
    "\n",
    "    prompt = pipeline.tokenizer.apply_chat_template(\n",
    "        chat_abstract_to_headline_0shot, \n",
    "        tokenize=False, \n",
    "        add_generation_prompt=True\n",
    "    )\n",
    "\n",
    "    terminators = [\n",
    "        pipeline.tokenizer.eos_token_id,\n",
    "        pipeline.tokenizer.convert_tokens_to_ids(\"<|eot_id|>\")\n",
    "    ]\n",
    "\n",
    "    outputs = pipeline(\n",
    "        prompt,\n",
    "        max_new_tokens=256,\n",
    "        eos_token_id=terminators,\n",
    "        do_sample=True,\n",
    "        temperature=0.6,\n",
    "        top_p=0.9,\n",
    "    )\n",
    "\n",
    "    # get output text\n",
    "    prediction = outputs[0][\"generated_text\"][len(prompt):]\n",
    "\n",
    "    # save json abstracts and their references + predictions\n",
    "    # json_data_3shot_abstract_to_headline[\"abstracts\"].append(abstract)\n",
    "    # json_data_3shot_abstract_to_headline[\"references\"].append(headline)\n",
    "    # json_data_3shot_abstract_to_headline[\"predictions\"].append(prediction)\n",
    "\n",
    "    # json_data_3shot_text_to_abstract[\"texts\"].append(text)\n",
    "    # json_data_3shot_text_to_abstract[\"references\"].append(abstract)\n",
    "    # json_data_3shot_text_to_abstract[\"predictions\"].append(prediction)\n",
    "\n",
    "    json_data_0shot_abstract_to_headline[\"abstracts\"].append(abstract)\n",
    "    json_data_0shot_abstract_to_headline[\"references\"].append(headline)\n",
    "    json_data_0shot_abstract_to_headline[\"predictions\"].append(prediction)\n",
    "\n",
    "    if i >= 5:\n",
    "        break\n",
    "\n"
   ]
  },
  {
   "cell_type": "code",
   "execution_count": 7,
   "id": "9f7518bb",
   "metadata": {},
   "outputs": [
    {
     "name": "stdout",
     "output_type": "stream",
     "text": [
      "{\n",
      "    \"dataset\": \"sumeczech\",\n",
      "    \"type\": \"0shot_abstract_to_headline\",\n",
      "    \"model\": \"llama3-8b-instruct\",\n",
      "    \"abstracts\": [\n",
      "        \"Kdo hledá do interiéru tak trochu jinou podlahu, určitě dříve či později objeví přírodní marmoleum, nové dekory měkčeného PVC nebo sametový vinyl s názvem Flotex, který nejvíce připomíná nakrátko střižený koberec. Jsou to všechno materiály nejen krásné, ale hlavně praktické a cenově přijatelné.\",\n",
      "        \"Policisté po sedmi měsících zadrželi muže, který v lednu v Orlové na Karvinsku zneužil chlapce a dívku, kterým ještě nebylo ani deset let. Dvaatřicetiletého muže obvinili ze znásilnění. Hrozí mu až 12 let vězení.\",\n",
      "        \"Tržby maloobchodu se v srpnu meziročně zvedly o 5,9 procenta. To představuje nejvyšší růst od listopadu roku 2004. Nejvíce se na něm podílel prodej textilu a obuvi. Uvedl to v úterý Český statistický úřad (ČSÚ).\",\n",
      "        \"Valtické Podzemí pozvalo Dvorní divadlo Hlohovec, aby v unikátním sklepním labyrintu pro začátek odehrálo jedno ze svých čtyř představení. Ve Valtickém Podzemí, kde mívají lidé myšlenku spíše na sklenku vína, se už konalo nepřeberně akcí, divadlo však dosud nikoliv.\",\n",
      "        \"Tak jako její věčné převleky působí i zpěvaččina třetí deska Artpop místy okoukaně. Není to revoluce, ale baví. Ke slibovanému odhalení a odhození přetvářky však nedošlo.\",\n",
      "        \"Byla to naprosto nestandardní a neočekávaná situace, na kterou není možné se nijak připravit. Tak o brutálním napadení mistra odborného výcviku žákem prvního ročníku mluví ředitel Střední školy polytechnické v Olomouci Aleš Jurečka. Škola podle něj nemá možnosti, jak podobným incidentům zabránit.\"\n",
      "    ],\n",
      "    \"references\": [\n",
      "        \"Trendy podlahy vyzývají ke kreativitě i návratu k přírodě\",\n",
      "        \"Kriminalisté dopadli násilníka, který v lednu zneužil školáky z Orlové\",\n",
      "        \"Maloobchod v srpnu výrazně rostl\",\n",
      "        \"Do Valtického Podzemí za divadlem místo vína\",\n",
      "        \"Lady Gaga umí jen pop. Ale lehký, autorský a kvalitní\",\n",
      "        \"Brutální útok na učitele: Se žákem nebyly závažné problémy, říká ředitel\"\n",
      "    ],\n",
      "    \"predictions\": [\n",
      "        \"\\\"Alternativní podlahy pro interiér\\\"\",\n",
      "        \"\\\"Muž zadržen za znásilnění dvou dětí\\\"\",\n",
      "        \"\\\"Tržby maloobchodu v srpnu 2022 dosáhly nejvyššího růstu od roku 2004\\\"\",\n",
      "        \"\\\"Unikátní divadelní představení v Valtickém Podzemí\\\"\",\n",
      "        \"\\\"Artpop: A Desperate Attempt at Authenticity\\\"\",\n",
      "        \"\\\"Nepřipravitelná agresivní událost na střední škole\\\"\"\n",
      "    ]\n",
      "}\n"
     ]
    }
   ],
   "source": [
    "print(json.dumps(json_data_0shot_abstract_to_headline, indent=4, ensure_ascii=False))"
   ]
  },
  {
   "cell_type": "code",
   "execution_count": null,
   "id": "ddf14bcd",
   "metadata": {},
   "outputs": [],
   "source": []
  }
 ],
 "metadata": {
  "kernelspec": {
   "display_name": "Python 3 (ipykernel)",
   "language": "python",
   "name": "python3"
  },
  "language_info": {
   "codemirror_mode": {
    "name": "ipython",
    "version": 3
   },
   "file_extension": ".py",
   "mimetype": "text/x-python",
   "name": "python",
   "nbconvert_exporter": "python",
   "pygments_lexer": "ipython3",
   "version": "3.10.12"
  }
 },
 "nbformat": 4,
 "nbformat_minor": 5
}
